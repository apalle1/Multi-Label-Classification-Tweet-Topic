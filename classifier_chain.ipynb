{
  "nbformat": 4,
  "nbformat_minor": 0,
  "metadata": {
    "colab": {
      "name": "Classifier Chain.ipynb",
      "version": "0.3.2",
      "provenance": [],
      "collapsed_sections": []
    },
    "kernelspec": {
      "name": "python3",
      "display_name": "Python 3"
    }
  },
  "cells": [
    {
      "metadata": {
        "id": "nGf6K2XMONiE",
        "colab_type": "code",
        "colab": {}
      },
      "cell_type": "code",
      "source": [
        "# https://scikit-learn.org/stable/auto_examples/multioutput/plot_classifier_chain_yeast.html\n",
        "# https://www.cs.waikato.ac.nz/~eibe/pubs/chains.pdf\n",
        "\n",
        "import numpy as np\n",
        "import matplotlib.pyplot as plt\n",
        "from sklearn.datasets import fetch_openml\n",
        "from sklearn.multioutput import ClassifierChain\n",
        "from sklearn.model_selection import train_test_split\n",
        "from sklearn.multiclass import OneVsRestClassifier\n",
        "from sklearn.metrics import jaccard_similarity_score\n",
        "from sklearn.linear_model import LogisticRegression"
      ],
      "execution_count": 0,
      "outputs": []
    },
    {
      "metadata": {
        "id": "cqf07gGAOWY0",
        "colab_type": "code",
        "colab": {}
      },
      "cell_type": "code",
      "source": [
        "# Load a multi-label dataset from https://www.openml.org/d/40597\n",
        "X, Y = fetch_openml('yeast', version=4, return_X_y=True)\n",
        "Y = Y == 'TRUE'\n",
        "X_train, X_test, Y_train, Y_test = train_test_split(X, Y, test_size=.2,\n",
        "                                                    random_state=0)"
      ],
      "execution_count": 0,
      "outputs": []
    },
    {
      "metadata": {
        "id": "mF_smw3KOZYZ",
        "colab_type": "code",
        "colab": {}
      },
      "cell_type": "code",
      "source": [
        "\n",
        "# Fit an independent logistic regression model for each class using the\n",
        "# OneVsRestClassifier wrapper.\n",
        "base_lr = LogisticRegression(solver='lbfgs')\n",
        "ovr = OneVsRestClassifier(base_lr)\n",
        "ovr.fit(X_train, Y_train)\n",
        "Y_pred_ovr = ovr.predict(X_test)\n",
        "ovr_jaccard_score = jaccard_similarity_score(Y_test, Y_pred_ovr)"
      ],
      "execution_count": 0,
      "outputs": []
    },
    {
      "metadata": {
        "id": "lwLHawv2OeM5",
        "colab_type": "code",
        "colab": {}
      },
      "cell_type": "code",
      "source": [
        "# Fit an ensemble of logistic regression classifier chains and take the\n",
        "# take the average prediction of all the chains.\n",
        "chains = [ClassifierChain(base_lr, order='random', random_state=i)\n",
        "          for i in range(10)]\n",
        "for chain in chains:\n",
        "    chain.fit(X_train, Y_train)\n",
        "\n",
        "Y_pred_chains = np.array([chain.predict(X_test) for chain in\n",
        "                          chains])\n",
        "chain_jaccard_scores = [jaccard_similarity_score(Y_test, Y_pred_chain >= .5)\n",
        "                        for Y_pred_chain in Y_pred_chains]\n",
        "\n",
        "Y_pred_ensemble = Y_pred_chains.mean(axis=0)\n",
        "ensemble_jaccard_score = jaccard_similarity_score(Y_test,\n",
        "                                                  Y_pred_ensemble >= .5)\n",
        "\n",
        "model_scores = [ovr_jaccard_score] + chain_jaccard_scores\n",
        "model_scores.append(ensemble_jaccard_score)\n",
        "\n",
        "model_names = ('Independent',\n",
        "               'Chain 1',\n",
        "               'Chain 2',\n",
        "               'Chain 3',\n",
        "               'Chain 4',\n",
        "               'Chain 5',\n",
        "               'Chain 6',\n",
        "               'Chain 7',\n",
        "               'Chain 8',\n",
        "               'Chain 9',\n",
        "               'Chain 10',\n",
        "               'Ensemble')\n",
        "\n",
        "x_pos = np.arange(len(model_names))"
      ],
      "execution_count": 0,
      "outputs": []
    },
    {
      "metadata": {
        "id": "RjjtqJ-KOjie",
        "colab_type": "code",
        "outputId": "1ab8fd5c-cdb7-4973-a29d-efde90989eff",
        "colab": {
          "base_uri": "https://localhost:8080/",
          "height": 293
        }
      },
      "cell_type": "code",
      "source": [
        "# Plot the Jaccard similarity scores for the independent model, each of the\n",
        "# chains, and the ensemble (note that the vertical axis on this plot does\n",
        "# not begin at 0).\n",
        "\n",
        "fig, ax = plt.subplots(figsize=(7, 4))\n",
        "ax.grid(True)\n",
        "ax.set_title('Classifier Chain Ensemble Performance Comparison')\n",
        "ax.set_xticks(x_pos)\n",
        "ax.set_xticklabels(model_names, rotation='vertical')\n",
        "ax.set_ylabel('Jaccard Similarity Score')\n",
        "ax.set_ylim([min(model_scores) * .9, max(model_scores) * 1.1])\n",
        "colors = ['r'] + ['b'] * len(chain_jaccard_scores) + ['g']\n",
        "ax.bar(x_pos, model_scores, alpha=0.5, color=colors)\n",
        "plt.tight_layout()\n",
        "plt.show()"
      ],
      "execution_count": 0,
      "outputs": [
        {
          "output_type": "display_data",
          "data": {
            "image/png": "[encoded data removed]",
            "text/plain": [
              "<matplotlib.figure.Figure at 0x7f4a7a925c88>"
            ]
          },
          "metadata": {
            "tags": []
          }
        }
      ]
    },
    {
      "metadata": {
        "id": "6htlBeqkQRl1",
        "colab_type": "code",
        "colab": {}
      },
      "cell_type": "code",
      "source": [
        ""
      ],
      "execution_count": 0,
      "outputs": []
    }
  ]
}